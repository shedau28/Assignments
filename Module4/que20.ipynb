{
 "cells": [
  {
   "cell_type": "markdown",
   "metadata": {},
   "source": [
    "Write python program that user to enter only odd numbers, else will raise \n",
    "an exception."
   ]
  },
  {
   "cell_type": "code",
   "execution_count": null,
   "metadata": {},
   "outputs": [],
   "source": [
    "num = int(input(\"Enter a number: \")) \n",
    "mod = num % 2 \n",
    "if mod > 0: \n",
    "    print(\"This is an odd number. \") \n",
    "else: \n",
    "    print(\"This is an even number. \")"
   ]
  }
 ],
 "metadata": {
  "language_info": {
   "name": "python"
  },
  "orig_nbformat": 4
 },
 "nbformat": 4,
 "nbformat_minor": 2
}
